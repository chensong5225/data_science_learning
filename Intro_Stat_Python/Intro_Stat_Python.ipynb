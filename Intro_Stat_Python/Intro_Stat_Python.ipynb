{
 "cells": [
  {
   "cell_type": "code",
   "execution_count": 1,
   "metadata": {
    "collapsed": true
   },
   "outputs": [],
   "source": [
    "import numpy as np\n",
    "import pandas as pd\n",
    "import statsmodels.formula.api as sm\n",
    "import matplotlib.pyplot as plt\n",
    "import seaborn as sns\n",
    "import scipy.stats as stats\n",
    "\n",
    "%matplotlib inline"
   ]
  },
  {
   "cell_type": "markdown",
   "metadata": {},
   "source": [
    "# An Introduction to Statistics with Python Ch1-2\n",
    "## 1. Why Statistics\n",
    "## 2. Python\n",
    "### 2.1 Getting Started\n",
    "Packages: \n",
    "numpy  np  \n",
    "pandas  pd  \n",
    "matplotlib.pyplot  plt  \n",
    "scipy  sp  \n",
    "statsmodels  \n",
    "seaborn  sns  \n",
    "xlrd  \n",
    "pyMC  \n",
    "scikit_learn  \n",
    "scikits.bootstrap  \n",
    "rpy, rpy2  \n",
    "patsy\n",
    "lifeline\n",
    "### 2.2 Python data structure\n",
    "tuple ()  \n",
    "list []  \n",
    "array [] -- np  \n",
    "dict {}\n",
    "dataframe -- pd\n",
    "#### indexing\n",
    "a[start:end]  \n",
    "a[start:]  \n",
    "a[:end]  \n",
    "a[start:end:step]  \n",
    "a[-n:] -- last n items  \n",
    "a[:-n] -- everything except last n items  \n",
    "#### vectors and arrays"
   ]
  },
  {
   "cell_type": "code",
   "execution_count": 2,
   "metadata": {},
   "outputs": [
    {
     "data": {
      "text/plain": [
       "array([ 1.,  1.,  1.])"
      ]
     },
     "execution_count": 2,
     "metadata": {},
     "output_type": "execute_result"
    }
   ],
   "source": [
    "np.ones(3)"
   ]
  },
  {
   "cell_type": "markdown",
   "metadata": {},
   "source": [
    "**other similar functions:**  \n",
    "np.zeros  \n",
    "np.random.randn  \n",
    "np.arange(start, end, interval)  \n",
    "np.linspace(start, end, num_points)  \n",
    "np.array"
   ]
  },
  {
   "cell_type": "markdown",
   "metadata": {},
   "source": [
    "### 2.5 Pandas"
   ]
  },
  {
   "cell_type": "code",
   "execution_count": 3,
   "metadata": {},
   "outputs": [
    {
     "data": {
      "text/plain": [
       "0    1\n",
       "1    2\n",
       "2    3\n",
       "3    4\n",
       "4    5\n",
       "5    6\n",
       "6    7\n",
       "7    8\n",
       "8    9\n",
       "9    9\n",
       "Name: Time, dtype: int64"
      ]
     },
     "execution_count": 3,
     "metadata": {},
     "output_type": "execute_result"
    }
   ],
   "source": [
    "t = [1,2,3,4,5,6,7,8,9,9]\n",
    "x = [5,4,3,2,1,2,3,4,5,0]\n",
    "y = [0,0,1,1,1,0,1,2,3,1]\n",
    "df = pd.DataFrame({'Time': t, 'X': x, 'Y': y})\n",
    "df.Time # df['Time'] also works"
   ]
  },
  {
   "cell_type": "code",
   "execution_count": 4,
   "metadata": {},
   "outputs": [
    {
     "data": {
      "text/html": [
       "<div>\n",
       "<table border=\"1\" class=\"dataframe\">\n",
       "  <thead>\n",
       "    <tr style=\"text-align: right;\">\n",
       "      <th></th>\n",
       "      <th>Time</th>\n",
       "      <th>X</th>\n",
       "    </tr>\n",
       "  </thead>\n",
       "  <tbody>\n",
       "    <tr>\n",
       "      <th>0</th>\n",
       "      <td>1</td>\n",
       "      <td>5</td>\n",
       "    </tr>\n",
       "    <tr>\n",
       "      <th>1</th>\n",
       "      <td>2</td>\n",
       "      <td>4</td>\n",
       "    </tr>\n",
       "    <tr>\n",
       "      <th>2</th>\n",
       "      <td>3</td>\n",
       "      <td>3</td>\n",
       "    </tr>\n",
       "    <tr>\n",
       "      <th>3</th>\n",
       "      <td>4</td>\n",
       "      <td>2</td>\n",
       "    </tr>\n",
       "    <tr>\n",
       "      <th>4</th>\n",
       "      <td>5</td>\n",
       "      <td>1</td>\n",
       "    </tr>\n",
       "    <tr>\n",
       "      <th>5</th>\n",
       "      <td>6</td>\n",
       "      <td>2</td>\n",
       "    </tr>\n",
       "    <tr>\n",
       "      <th>6</th>\n",
       "      <td>7</td>\n",
       "      <td>3</td>\n",
       "    </tr>\n",
       "    <tr>\n",
       "      <th>7</th>\n",
       "      <td>8</td>\n",
       "      <td>4</td>\n",
       "    </tr>\n",
       "    <tr>\n",
       "      <th>8</th>\n",
       "      <td>9</td>\n",
       "      <td>5</td>\n",
       "    </tr>\n",
       "    <tr>\n",
       "      <th>9</th>\n",
       "      <td>9</td>\n",
       "      <td>0</td>\n",
       "    </tr>\n",
       "  </tbody>\n",
       "</table>\n",
       "</div>"
      ],
      "text/plain": [
       "   Time  X\n",
       "0     1  5\n",
       "1     2  4\n",
       "2     3  3\n",
       "3     4  2\n",
       "4     5  1\n",
       "5     6  2\n",
       "6     7  3\n",
       "7     8  4\n",
       "8     9  5\n",
       "9     9  0"
      ]
     },
     "execution_count": 4,
     "metadata": {},
     "output_type": "execute_result"
    }
   ],
   "source": [
    "# select columns\n",
    "df[['Time','X']]"
   ]
  },
  {
   "cell_type": "code",
   "execution_count": 5,
   "metadata": {},
   "outputs": [
    {
     "data": {
      "text/html": [
       "<div>\n",
       "<table border=\"1\" class=\"dataframe\">\n",
       "  <thead>\n",
       "    <tr style=\"text-align: right;\">\n",
       "      <th></th>\n",
       "      <th>Time</th>\n",
       "      <th>X</th>\n",
       "      <th>Y</th>\n",
       "    </tr>\n",
       "  </thead>\n",
       "  <tbody>\n",
       "    <tr>\n",
       "      <th>0</th>\n",
       "      <td>1</td>\n",
       "      <td>5</td>\n",
       "      <td>0</td>\n",
       "    </tr>\n",
       "    <tr>\n",
       "      <th>1</th>\n",
       "      <td>2</td>\n",
       "      <td>4</td>\n",
       "      <td>0</td>\n",
       "    </tr>\n",
       "    <tr>\n",
       "      <th>2</th>\n",
       "      <td>3</td>\n",
       "      <td>3</td>\n",
       "      <td>1</td>\n",
       "    </tr>\n",
       "    <tr>\n",
       "      <th>3</th>\n",
       "      <td>4</td>\n",
       "      <td>2</td>\n",
       "      <td>1</td>\n",
       "    </tr>\n",
       "    <tr>\n",
       "      <th>4</th>\n",
       "      <td>5</td>\n",
       "      <td>1</td>\n",
       "      <td>1</td>\n",
       "    </tr>\n",
       "  </tbody>\n",
       "</table>\n",
       "</div>"
      ],
      "text/plain": [
       "   Time  X  Y\n",
       "0     1  5  0\n",
       "1     2  4  0\n",
       "2     3  3  1\n",
       "3     4  2  1\n",
       "4     5  1  1"
      ]
     },
     "execution_count": 5,
     "metadata": {},
     "output_type": "execute_result"
    }
   ],
   "source": [
    "# select rows\n",
    "df.head()\n",
    "# can also be df.head(2), df.tail, df[4:10]"
   ]
  },
  {
   "cell_type": "code",
   "execution_count": 6,
   "metadata": {},
   "outputs": [
    {
     "data": {
      "text/html": [
       "<div>\n",
       "<table border=\"1\" class=\"dataframe\">\n",
       "  <thead>\n",
       "    <tr style=\"text-align: right;\">\n",
       "      <th></th>\n",
       "      <th>Time</th>\n",
       "      <th>X</th>\n",
       "    </tr>\n",
       "  </thead>\n",
       "  <tbody>\n",
       "    <tr>\n",
       "      <th>1</th>\n",
       "      <td>2</td>\n",
       "      <td>4</td>\n",
       "    </tr>\n",
       "  </tbody>\n",
       "</table>\n",
       "</div>"
      ],
      "text/plain": [
       "   Time  X\n",
       "1     2  4"
      ]
     },
     "execution_count": 6,
     "metadata": {},
     "output_type": "execute_result"
    }
   ],
   "source": [
    "# select columns and rows\n",
    "df[['Time','X']][1:2]\n",
    "# df.ilox[1:2,[0,1]]"
   ]
  },
  {
   "cell_type": "code",
   "execution_count": 7,
   "metadata": {},
   "outputs": [
    {
     "data": {
      "text/plain": [
       "array([[1, 5, 0],\n",
       "       [2, 4, 0],\n",
       "       [3, 3, 1],\n",
       "       [4, 2, 1],\n",
       "       [5, 1, 1],\n",
       "       [6, 2, 0],\n",
       "       [7, 3, 1],\n",
       "       [8, 4, 2],\n",
       "       [9, 5, 3],\n",
       "       [9, 0, 1]])"
      ]
     },
     "execution_count": 7,
     "metadata": {},
     "output_type": "execute_result"
    }
   ],
   "source": [
    "# trun into a np array\n",
    "df.values"
   ]
  },
  {
   "cell_type": "code",
   "execution_count": 8,
   "metadata": {},
   "outputs": [],
   "source": [
    "# group\n",
    "grouped = df.groupby('Y')\n",
    "# 这里不太清楚，需要再看"
   ]
  },
  {
   "cell_type": "markdown",
   "metadata": {},
   "source": [
    "### 2.6 Statistic models"
   ]
  },
  {
   "cell_type": "code",
   "execution_count": 9,
   "metadata": {},
   "outputs": [
    {
     "name": "stderr",
     "output_type": "stream",
     "text": [
      "/anaconda/lib/python3.6/site-packages/scipy/stats/stats.py:1327: UserWarning: kurtosistest only valid for n>=20 ... continuing anyway, n=10\n",
      "  \"anyway, n=%i\" % int(n))\n"
     ]
    },
    {
     "data": {
      "text/html": [
       "<table class=\"simpletable\">\n",
       "<caption>OLS Regression Results</caption>\n",
       "<tr>\n",
       "  <th>Dep. Variable:</th>            <td>Y</td>        <th>  R-squared:         </th> <td>   0.045</td>\n",
       "</tr>\n",
       "<tr>\n",
       "  <th>Model:</th>                   <td>OLS</td>       <th>  Adj. R-squared:    </th> <td>  -0.074</td>\n",
       "</tr>\n",
       "<tr>\n",
       "  <th>Method:</th>             <td>Least Squares</td>  <th>  F-statistic:       </th> <td>  0.3785</td>\n",
       "</tr>\n",
       "<tr>\n",
       "  <th>Date:</th>             <td>Thu, 05 Apr 2018</td> <th>  Prob (F-statistic):</th>  <td> 0.555</td> \n",
       "</tr>\n",
       "<tr>\n",
       "  <th>Time:</th>                 <td>22:23:04</td>     <th>  Log-Likelihood:    </th> <td> -12.843</td>\n",
       "</tr>\n",
       "<tr>\n",
       "  <th>No. Observations:</th>      <td>    10</td>      <th>  AIC:               </th> <td>   29.69</td>\n",
       "</tr>\n",
       "<tr>\n",
       "  <th>Df Residuals:</th>          <td>     8</td>      <th>  BIC:               </th> <td>   30.29</td>\n",
       "</tr>\n",
       "<tr>\n",
       "  <th>Df Model:</th>              <td>     1</td>      <th>                     </th>     <td> </td>   \n",
       "</tr>\n",
       "<tr>\n",
       "  <th>Covariance Type:</th>      <td>nonrobust</td>    <th>                     </th>     <td> </td>   \n",
       "</tr>\n",
       "</table>\n",
       "<table class=\"simpletable\">\n",
       "<tr>\n",
       "      <td></td>         <th>coef</th>     <th>std err</th>      <th>t</th>      <th>P>|t|</th> <th>[95.0% Conf. Int.]</th> \n",
       "</tr>\n",
       "<tr>\n",
       "  <th>Intercept</th> <td>    0.6506</td> <td>    0.647</td> <td>    1.006</td> <td> 0.344</td> <td>   -0.840     2.141</td>\n",
       "</tr>\n",
       "<tr>\n",
       "  <th>X</th>         <td>    0.1205</td> <td>    0.196</td> <td>    0.615</td> <td> 0.555</td> <td>   -0.331     0.572</td>\n",
       "</tr>\n",
       "</table>\n",
       "<table class=\"simpletable\">\n",
       "<tr>\n",
       "  <th>Omnibus:</th>       <td> 0.337</td> <th>  Durbin-Watson:     </th> <td>   0.894</td>\n",
       "</tr>\n",
       "<tr>\n",
       "  <th>Prob(Omnibus):</th> <td> 0.845</td> <th>  Jarque-Bera (JB):  </th> <td>   0.237</td>\n",
       "</tr>\n",
       "<tr>\n",
       "  <th>Skew:</th>          <td> 0.286</td> <th>  Prob(JB):          </th> <td>   0.888</td>\n",
       "</tr>\n",
       "<tr>\n",
       "  <th>Kurtosis:</th>      <td> 2.509</td> <th>  Cond. No.          </th> <td>    7.41</td>\n",
       "</tr>\n",
       "</table>"
      ],
      "text/plain": [
       "<class 'statsmodels.iolib.summary.Summary'>\n",
       "\"\"\"\n",
       "                            OLS Regression Results                            \n",
       "==============================================================================\n",
       "Dep. Variable:                      Y   R-squared:                       0.045\n",
       "Model:                            OLS   Adj. R-squared:                 -0.074\n",
       "Method:                 Least Squares   F-statistic:                    0.3785\n",
       "Date:                Thu, 05 Apr 2018   Prob (F-statistic):              0.555\n",
       "Time:                        22:23:04   Log-Likelihood:                -12.843\n",
       "No. Observations:                  10   AIC:                             29.69\n",
       "Df Residuals:                       8   BIC:                             30.29\n",
       "Df Model:                           1                                         \n",
       "Covariance Type:            nonrobust                                         \n",
       "==============================================================================\n",
       "                 coef    std err          t      P>|t|      [95.0% Conf. Int.]\n",
       "------------------------------------------------------------------------------\n",
       "Intercept      0.6506      0.647      1.006      0.344        -0.840     2.141\n",
       "X              0.1205      0.196      0.615      0.555        -0.331     0.572\n",
       "==============================================================================\n",
       "Omnibus:                        0.337   Durbin-Watson:                   0.894\n",
       "Prob(Omnibus):                  0.845   Jarque-Bera (JB):                0.237\n",
       "Skew:                           0.286   Prob(JB):                        0.888\n",
       "Kurtosis:                       2.509   Cond. No.                         7.41\n",
       "==============================================================================\n",
       "\n",
       "Warnings:\n",
       "[1] Standard Errors assume that the covariance matrix of the errors is correctly specified.\n",
       "\"\"\""
      ]
     },
     "execution_count": 9,
     "metadata": {},
     "output_type": "execute_result"
    }
   ],
   "source": [
    "# import statsmodels.formula.api as sm\n",
    "model = sm.ols('Y~X', data = df).fit()\n",
    "model.summary()"
   ]
  },
  {
   "cell_type": "markdown",
   "metadata": {},
   "source": [
    "### 2.7 Seaborn"
   ]
  },
  {
   "cell_type": "code",
   "execution_count": 10,
   "metadata": {},
   "outputs": [
    {
     "data": {
      "text/plain": [
       "<matplotlib.axes._subplots.AxesSubplot at 0x114c57320>"
      ]
     },
     "execution_count": 10,
     "metadata": {},
     "output_type": "execute_result"
    },
    {
     "data": {
      "image/png": "[encoded data removed]",
      "text/plain": [
       "<matplotlib.figure.Figure at 0x114c40908>"
      ]
     },
     "metadata": {},
     "output_type": "display_data"
    }
   ],
   "source": [
    "# import matplotlib.pyplot as plt\n",
    "# import seaborn as sns\n",
    "df2 = pd.DataFrame({'X':x, 'Y':y})\n",
    "sns.regplot('X','Y', data = df2)"
   ]
  },
  {
   "cell_type": "markdown",
   "metadata": {},
   "source": [
    "## 3. Data Input\n",
    "### 3.1 Input from text files\n",
    "#### method 1:\n",
    "arr = np.loadtext('filename', delimiter = ',')  \n",
    "pd.DataFrame(arr, columns = [...])  \n",
    "#### method 2:\n",
    "pd.read_csv('filename', header = YES/NONE, delimiter = ',', skipfooter = 3)\n",
    "### 3.2 Input from excel\n",
    "#### method 1:\n",
    "xls = pd.ExcelFile('filename') -- sheet specific  \n",
    "data = xls.parse('Sheet1', index_col = NONE, na_values = ['NA'])\n",
    "#### method 2:\n",
    "data = pd.read_excel('filename', 'Sheet1', index_col = NONE, na_values = ['NA']) -- file specific, need same sheets\n",
    "## 4. Display of Statistical Data"
   ]
  },
  {
   "cell_type": "code",
   "execution_count": 11,
   "metadata": {},
   "outputs": [
    {
     "data": {
      "text/plain": [
       "[<matplotlib.lines.Line2D at 0x117ee81d0>]"
      ]
     },
     "execution_count": 11,
     "metadata": {},
     "output_type": "execute_result"
    },
    {
     "data": {
      "image/png": "[encoded data removed]",
      "text/plain": [
       "<matplotlib.figure.Figure at 0x114496978>"
      ]
     },
     "metadata": {},
     "output_type": "display_data"
    }
   ],
   "source": [
    "# scatter plot\n",
    "plt.plot(x, '.')"
   ]
  },
  {
   "cell_type": "code",
   "execution_count": 12,
   "metadata": {},
   "outputs": [
    {
     "data": {
      "text/plain": [
       "(array([ 2.,  4.,  4.]),\n",
       " array([ 0.        ,  1.66666667,  3.33333333,  5.        ]),\n",
       " <a list of 3 Patch objects>)"
      ]
     },
     "execution_count": 12,
     "metadata": {},
     "output_type": "execute_result"
    },
    {
     "data": {
      "image/png": "[encoded data removed]",
      "text/plain": [
       "<matplotlib.figure.Figure at 0x117efef28>"
      ]
     },
     "metadata": {},
     "output_type": "display_data"
    }
   ],
   "source": [
    "# histogram\n",
    "plt.hist(x, bins = 3)"
   ]
  },
  {
   "cell_type": "code",
   "execution_count": 13,
   "metadata": {},
   "outputs": [
    {
     "name": "stderr",
     "output_type": "stream",
     "text": [
      "/anaconda/lib/python3.6/site-packages/statsmodels/nonparametric/kdetools.py:20: VisibleDeprecationWarning: using a non-integer number instead of an integer will result in an error in the future\n",
      "  y = X[:m/2+1] + np.r_[0,X[m/2+1:],0]*1j\n"
     ]
    },
    {
     "data": {
      "text/plain": [
       "<matplotlib.axes._subplots.AxesSubplot at 0x118110da0>"
      ]
     },
     "execution_count": 13,
     "metadata": {},
     "output_type": "execute_result"
    },
    {
     "data": {
      "image/png": "[encoded data removed]",
      "text/plain": [
       "<matplotlib.figure.Figure at 0x1181adc18>"
      ]
     },
     "metadata": {},
     "output_type": "display_data"
    }
   ],
   "source": [
    "# kernel density estimation (KDE)\n",
    "# %matplotlib inline\n",
    "x2 = np.array([-2.1, -1.3, -0.4, 1.9, 5.1, 6.2])\n",
    "sns.kdeplot(x2)"
   ]
  },
  {
   "cell_type": "code",
   "execution_count": 14,
   "metadata": {},
   "outputs": [
    {
     "data": {
      "text/plain": [
       "[<matplotlib.lines.Line2D at 0x1186c3cf8>]"
      ]
     },
     "execution_count": 14,
     "metadata": {},
     "output_type": "execute_result"
    },
    {
     "data": {
      "image/png": "[encoded data removed]",
      "text/plain": [
       "<matplotlib.figure.Figure at 0x118668940>"
      ]
     },
     "metadata": {},
     "output_type": "display_data"
    }
   ],
   "source": [
    "# cumulative freq\n",
    "# import scipy.stats as stats\n",
    "numbins = 3\n",
    "plt.plot(stats.cumfreq(x, numbins)[0])"
   ]
  },
  {
   "cell_type": "code",
   "execution_count": 15,
   "metadata": {},
   "outputs": [
    {
     "data": {
      "text/plain": [
       "{'boxes': [<matplotlib.lines.Line2D at 0x1187c57f0>],\n",
       " 'caps': [<matplotlib.lines.Line2D at 0x1187cfc18>,\n",
       "  <matplotlib.lines.Line2D at 0x1187d9b00>],\n",
       " 'fliers': [<matplotlib.lines.Line2D at 0x1188b1be0>],\n",
       " 'means': [],\n",
       " 'medians': [<matplotlib.lines.Line2D at 0x1187d9cf8>],\n",
       " 'whiskers': [<matplotlib.lines.Line2D at 0x1187c59e8>,\n",
       "  <matplotlib.lines.Line2D at 0x1187cfa20>]}"
      ]
     },
     "execution_count": 15,
     "metadata": {},
     "output_type": "execute_result"
    },
    {
     "data": {
      "image/png": "[encoded data removed]",
      "text/plain": [
       "<matplotlib.figure.Figure at 0x118816400>"
      ]
     },
     "metadata": {},
     "output_type": "display_data"
    }
   ],
   "source": [
    "# box plot\n",
    "plt.boxplot(x, sym='*')"
   ]
  },
  {
   "cell_type": "code",
   "execution_count": 16,
   "metadata": {},
   "outputs": [
    {
     "name": "stderr",
     "output_type": "stream",
     "text": [
      "/anaconda/lib/python3.6/site-packages/seaborn/categorical.py:2342: UserWarning: The violinplot API has been changed. Attempting to adjust your arguments for the new API (which might not work). Please update your code. See the version 0.6 release notes for more info.\n",
      "  warnings.warn(msg, UserWarning)\n"
     ]
    },
    {
     "data": {
      "text/plain": [
       "<matplotlib.axes._subplots.AxesSubplot at 0x1188413c8>"
      ]
     },
     "execution_count": 16,
     "metadata": {},
     "output_type": "execute_result"
    },
    {
     "data": {
      "image/png": "[encoded data removed]",
      "text/plain": [
       "<matplotlib.figure.Figure at 0x118853128>"
      ]
     },
     "metadata": {},
     "output_type": "display_data"
    }
   ],
   "source": [
    "# violin plot\n",
    "sns.violinplot(df2)"
   ]
  },
  {
   "cell_type": "code",
   "execution_count": 17,
   "metadata": {},
   "outputs": [
    {
     "data": {
      "text/plain": [
       "<matplotlib.axes._subplots.AxesSubplot at 0x1188b9550>"
      ]
     },
     "execution_count": 17,
     "metadata": {},
     "output_type": "execute_result"
    },
    {
     "data": {
      "image/png": "[encoded data removed]",
      "text/plain": [
       "<matplotlib.figure.Figure at 0x1189c1390>"
      ]
     },
     "metadata": {},
     "output_type": "display_data"
    }
   ],
   "source": [
    "# grouped bar chart\n",
    "df.plot(kind = 'bar', grid = False)"
   ]
  },
  {
   "cell_type": "code",
   "execution_count": 18,
   "metadata": {},
   "outputs": [
    {
     "data": {
      "text/plain": [
       "([<matplotlib.patches.Wedge at 0x118c359b0>,\n",
       "  <matplotlib.patches.Wedge at 0x118c3c630>,\n",
       "  <matplotlib.patches.Wedge at 0x118c462b0>,\n",
       "  <matplotlib.patches.Wedge at 0x118c46ef0>,\n",
       "  <matplotlib.patches.Wedge at 0x118c4fb70>,\n",
       "  <matplotlib.patches.Wedge at 0x118d287f0>,\n",
       "  <matplotlib.patches.Wedge at 0x118caefd0>,\n",
       "  <matplotlib.patches.Wedge at 0x118d39080>,\n",
       "  <matplotlib.patches.Wedge at 0x118d39cc0>,\n",
       "  <matplotlib.patches.Wedge at 0x118d3f940>],\n",
       " [<matplotlib.text.Text at 0x118c3c160>,\n",
       "  <matplotlib.text.Text at 0x118c3cda0>,\n",
       "  <matplotlib.text.Text at 0x118c46a20>,\n",
       "  <matplotlib.text.Text at 0x118c4f6a0>,\n",
       "  <matplotlib.text.Text at 0x118d28320>,\n",
       "  <matplotlib.text.Text at 0x118d28f60>,\n",
       "  <matplotlib.text.Text at 0x118d30ba8>,\n",
       "  <matplotlib.text.Text at 0x118d39828>,\n",
       "  <matplotlib.text.Text at 0x118d3f4a8>,\n",
       "  <matplotlib.text.Text at 0x118d48128>])"
      ]
     },
     "execution_count": 18,
     "metadata": {},
     "output_type": "execute_result"
    },
    {
     "data": {
      "image/png": "[encoded data removed]",
      "text/plain": [
       "<matplotlib.figure.Figure at 0x118bfbb00>"
      ]
     },
     "metadata": {},
     "output_type": "display_data"
    }
   ],
   "source": [
    "# pie chart\n",
    "plt.pie(y)"
   ]
  },
  {
   "cell_type": "code",
   "execution_count": 19,
   "metadata": {},
   "outputs": [
    {
     "data": {
      "text/plain": [
       "[<matplotlib.lines.Line2D at 0x118e412e8>]"
      ]
     },
     "execution_count": 19,
     "metadata": {},
     "output_type": "execute_result"
    },
    {
     "data": {
      "image/png": "[encoded data removed]",
      "text/plain": [
       "<matplotlib.figure.Figure at 0x118ca83c8>"
      ]
     },
     "metadata": {},
     "output_type": "display_data"
    }
   ],
   "source": [
    "# scatter of 2 variables\n",
    "plt.plot(x,y)"
   ]
  },
  {
   "cell_type": "code",
   "execution_count": 20,
   "metadata": {},
   "outputs": [
    {
     "data": {
      "text/plain": [
       "<matplotlib.axes._subplots.AxesSubplot at 0x118d7bf98>"
      ]
     },
     "execution_count": 20,
     "metadata": {},
     "output_type": "execute_result"
    },
    {
     "data": {
      "image/png": "[encoded data removed]",
      "text/plain": [
       "<matplotlib.figure.Figure at 0x118e60860>"
      ]
     },
     "metadata": {},
     "output_type": "display_data"
    }
   ],
   "source": [
    "df.plot(kind = 'scatter', x='X', y='Y', s = df['Time']*300)"
   ]
  },
  {
   "cell_type": "markdown",
   "metadata": {},
   "source": [
    "## 5. Distributions and Hypothesis Test: Background\n",
    "### 5.1 populations and samples\n",
    "|     | population parameter | sample statistics  \n",
    "|-----|----------------------|---------  \n",
    "|mean |         miu          |     x bar \n",
    "|SD   |        sita          |       S  \n",
    "### 5.2 Probability Distributions\n",
    "#### Discrete Distribution\n",
    "(P1 + P2 + ... + Pn) = 1  \n",
    "E[X] = xiPi(i = 1~n)\n",
    "#### Continuous Distribution\n",
    "E[X] = xf(x)dx\n",
    "Var[X] = E[x2] - (E[X])2\n",
    "### 5.3 Degree of Freedom\n",
    "### 5.4 Study Design\n",
    "hypothesis test  \n",
    "screen investigation  \n",
    "optimization problem  \n",
    "statistical modeling\n",
    "## 6. Distribution of one Variable\n",
    "### 6.1 Characterizing a Distribution"
   ]
  },
  {
   "cell_type": "code",
   "execution_count": 21,
   "metadata": {},
   "outputs": [
    {
     "data": {
      "text/plain": [
       "4.5"
      ]
     },
     "execution_count": 21,
     "metadata": {},
     "output_type": "execute_result"
    }
   ],
   "source": [
    "# mean\n",
    "x3 = np.arange(10)\n",
    "np.mean(x3)"
   ]
  },
  {
   "cell_type": "code",
   "execution_count": 22,
   "metadata": {},
   "outputs": [
    {
     "name": "stdout",
     "output_type": "stream",
     "text": [
      "nan\n",
      "4.5\n"
     ]
    }
   ],
   "source": [
    "# deal with NA\n",
    "x3withna = np.hstack((x3, np.nan))\n",
    "print(np.mean(x3withna))\n",
    "print(np.nanmean(x3withna))"
   ]
  },
  {
   "cell_type": "code",
   "execution_count": 23,
   "metadata": {},
   "outputs": [
    {
     "data": {
      "text/plain": [
       "4.5"
      ]
     },
     "execution_count": 23,
     "metadata": {},
     "output_type": "execute_result"
    }
   ],
   "source": [
    "# median\n",
    "np.median(x3)"
   ]
  },
  {
   "cell_type": "code",
   "execution_count": 24,
   "metadata": {},
   "outputs": [
    {
     "data": {
      "text/plain": [
       "ModeResult(mode=array([4]), count=array([2]))"
      ]
     },
     "execution_count": 24,
     "metadata": {},
     "output_type": "execute_result"
    }
   ],
   "source": [
    "# mode\n",
    "x4 = [1,3,4,4,7]\n",
    "stats.mode(x4)"
   ]
  },
  {
   "cell_type": "code",
   "execution_count": 25,
   "metadata": {},
   "outputs": [
    {
     "data": {
      "text/plain": [
       "37.992689344834304"
      ]
     },
     "execution_count": 25,
     "metadata": {},
     "output_type": "execute_result"
    }
   ],
   "source": [
    "# geometric mean\n",
    "x5 = np.arange(1,101)\n",
    "stats.gmean(x5)"
   ]
  },
  {
   "cell_type": "code",
   "execution_count": 26,
   "metadata": {},
   "outputs": [
    {
     "data": {
      "text/plain": [
       "9"
      ]
     },
     "execution_count": 26,
     "metadata": {},
     "output_type": "execute_result"
    }
   ],
   "source": [
    "# range\n",
    "np.ptp(x3) # peak to peak"
   ]
  },
  {
   "cell_type": "code",
   "execution_count": 27,
   "metadata": {},
   "outputs": [
    {
     "data": {
      "text/plain": [
       "2.0"
      ]
     },
     "execution_count": 27,
     "metadata": {},
     "output_type": "execute_result"
    }
   ],
   "source": [
    "# variance and standard deviation\n",
    "x6 = np.arange(7, 14)\n",
    "np.std(x6, ddof = 0)"
   ]
  },
  {
   "cell_type": "code",
   "execution_count": 28,
   "metadata": {},
   "outputs": [
    {
     "data": {
      "text/plain": [
       "2.1602468994692869"
      ]
     },
     "execution_count": 28,
     "metadata": {},
     "output_type": "execute_result"
    }
   ],
   "source": [
    "# use n-1\n",
    "np.std(x6, ddof = 1)"
   ]
  },
  {
   "cell_type": "markdown",
   "metadata": {},
   "source": [
    "#### other statistics\n",
    "percentile  \n",
    "standard error (sample standard error of the mean, SE or SEM. estimate of the standard deviation of a coefficient)  \n",
    "confidence interval (the reported range contains the true value for the parameter with a likelihood of a%)\n",
    "#### discription of a distribution\n",
    "location  \n",
    "scale  \n",
    "shape: skewness, kurtosis (peakedness)\n",
    "#### presentations of probability density\n",
    "PDF: probability density function  \n",
    "CDF: cumulative density function  \n",
    "SF: survival function, 1-CDF  \n",
    "PPF: percential point function\n",
    "ISF: inverse survival function  \n",
    "RVS: random variate sample"
   ]
  },
  {
   "cell_type": "code",
   "execution_count": 29,
   "metadata": {},
   "outputs": [
    {
     "data": {
      "text/plain": [
       "<matplotlib.collections.PathCollection at 0x118fca7b8>"
      ]
     },
     "execution_count": 29,
     "metadata": {},
     "output_type": "execute_result"
    },
    {
     "data": {
      "image/png": "[encoded data removed]",
      "text/plain": [
       "<matplotlib.figure.Figure at 0x118ea3f98>"
      ]
     },
     "metadata": {},
     "output_type": "display_data"
    }
   ],
   "source": [
    "# from scipy import stats\n",
    "myDF = stats.norm(5, 3) # mean = 5, SD = 3\n",
    "x = np.linspace(-5, 15, 101)\n",
    "y = myDF.cdf(x)\n",
    "plt.scatter(x, y)"
   ]
  },
  {
   "cell_type": "code",
   "execution_count": 30,
   "metadata": {},
   "outputs": [
    {
     "data": {
      "text/plain": [
       "<matplotlib.collections.PathCollection at 0x119103860>"
      ]
     },
     "execution_count": 30,
     "metadata": {},
     "output_type": "execute_result"
    },
    {
     "data": {
      "image/png": "[encoded data removed]",
      "text/plain": [
       "<matplotlib.figure.Figure at 0x118f93358>"
      ]
     },
     "metadata": {},
     "output_type": "display_data"
    }
   ],
   "source": [
    "y2 = myDF.pdf(x)\n",
    "plt.scatter(x, y2)"
   ]
  },
  {
   "cell_type": "markdown",
   "metadata": {},
   "source": [
    "### 6.2 Discrete Distributions\n",
    "#### Bernoulli distribution\n",
    "P(head) + P(tail) = 1"
   ]
  },
  {
   "cell_type": "code",
   "execution_count": 31,
   "metadata": {},
   "outputs": [
    {
     "data": {
      "text/plain": [
       "array([1, 0, 1, 1, 0, 0, 0, 0, 0, 0])"
      ]
     },
     "execution_count": 31,
     "metadata": {},
     "output_type": "execute_result"
    }
   ],
   "source": [
    "p = 0.5\n",
    "bern = stats.bernoulli(p)\n",
    "p_tails = bern.pmf(0) # probability mass function\n",
    "p_heads = bern.pmf(1)\n",
    "trials = bern.rvs(10)\n",
    "trials"
   ]
  },
  {
   "cell_type": "markdown",
   "metadata": {},
   "source": [
    "#### Binomial distribution\n",
    "if flip a coin n times, how often did heads come up?  \n",
    "p0 + p1 + ... + pn-1 = 1"
   ]
  },
  {
   "cell_type": "code",
   "execution_count": 32,
   "metadata": {},
   "outputs": [
    {
     "data": {
      "text/plain": [
       "array([ 0.0625,  0.25  ,  0.375 ,  0.25  ,  0.0625])"
      ]
     },
     "execution_count": 32,
     "metadata": {},
     "output_type": "execute_result"
    }
   ],
   "source": [
    "(p, num) = (0.5, 4)\n",
    "bino = stats.binom(num, p)\n",
    "bino.pmf(np.arange(5))"
   ]
  },
  {
   "cell_type": "markdown",
   "metadata": {},
   "source": [
    "#### Poisson Distribution\n",
    "P(X=k) = (e_-lamda lamda_k)/k!\n",
    "### 6.3 Normal distribution"
   ]
  },
  {
   "cell_type": "code",
   "execution_count": 33,
   "metadata": {},
   "outputs": [
    {
     "data": {
      "text/plain": [
       "array([-3.37197479, -0.62802521])"
      ]
     },
     "execution_count": 33,
     "metadata": {},
     "output_type": "execute_result"
    }
   ],
   "source": [
    "mu = -2\n",
    "sigma = 0.7\n",
    "myDistribution = stats.norm(mu, sigma)\n",
    "significanceLevel = 0.05\n",
    "myDistribution.ppf([significanceLevel/2, 1-significanceLevel/2])"
   ]
  },
  {
   "cell_type": "markdown",
   "metadata": {},
   "source": [
    "#### sum of normal distributions\n",
    "X -- N(miux, sitax_2)   \n",
    "Y -- N(miuy, sitay_2)   \n",
    "X+-Y -- N(miux+-miuy, sitax_2+sitay_2)\n",
    "#### central limit theorem\n",
    "sampling distribution of mean tends toward normality\n",
    "#### hypothesis test"
   ]
  },
  {
   "cell_type": "code",
   "execution_count": 34,
   "metadata": {},
   "outputs": [
    {
     "data": {
      "text/plain": [
       "0.11816486815719918"
      ]
     },
     "execution_count": 34,
     "metadata": {},
     "output_type": "execute_result"
    }
   ],
   "source": [
    "# the mean weight of healthy babies is 3.5, \n",
    "# the probability that a healthy baby is lighter or heavier 0.9 than the average is cdf(2.6)\n",
    "nd = stats.norm(3.5, 0.76)\n",
    "nd.cdf(2.6)"
   ]
  },
  {
   "cell_type": "markdown",
   "metadata": {},
   "source": [
    "### 6.4 Other continuous distributions\n",
    "#### t-distribution\n",
    "在重复抽样的情况下，样本的mean的分布属于T分布  \n",
    "如果总体方差已知，且样本数量较大（>30），根据中央极限定理，样本mean是正态分布的，可以使用Z检验  \n",
    "如果总体方差未知，样本数量小，应使用T检验  \n",
    "T分布比Z分布矮胖一点--longer tail, less affected by extreme cases"
   ]
  },
  {
   "cell_type": "code",
   "execution_count": 35,
   "metadata": {},
   "outputs": [
    {
     "name": "stdout",
     "output_type": "stream",
     "text": [
      "T: 2.09302405441\n",
      "Z: 1.95996398454\n"
     ]
    }
   ],
   "source": [
    "n = 20\n",
    "df = n-1\n",
    "alpha = 0.05\n",
    "\n",
    "print('T:', stats.t(df).isf(alpha/2))\n",
    "print('Z:', stats.norm.isf(alpha/2))"
   ]
  },
  {
   "cell_type": "markdown",
   "metadata": {},
   "source": [
    "#### chi-square distribution\n",
    "if X is normal distribution, then x_2 is chi-square distribution, with DOF=1  \n",
    "the sum square of n independent and normal distribution variables is chi-square distribution with DOF=n  \n",
    "k个独立的标准正态分布变量的平方和服从自由度为k的卡方分布"
   ]
  },
  {
   "cell_type": "code",
   "execution_count": 36,
   "metadata": {},
   "outputs": [
    {
     "data": {
      "text/plain": [
       "0.19293306654285153"
      ]
     },
     "execution_count": 36,
     "metadata": {},
     "output_type": "execute_result"
    }
   ],
   "source": [
    "# 要求std不超过0.05，是否符合？\n",
    "# 如果总体的std是0.05，chi-square value等于或大于样本观察到的值得可能性是19.29%\n",
    "data = np.array([3.04, 2.94, 3.01, 3, 2.94, 2.91, 3.02, 3.04, 3.09, 2.95, 2.99, 3.1, 3.02])\n",
    "sigma = 0.05\n",
    "chi2Dist = stats.chi2(len(data)-1)\n",
    "statistic = sum( ((data-np.mean(data))/sigma)**2 )\n",
    "chi2Dist.sf(statistic)"
   ]
  },
  {
   "cell_type": "markdown",
   "metadata": {},
   "source": [
    "#### F-distribution\n",
    "use in determining critical values in ANOVAs (analysis of variance)  \n",
    "investigate whether 2 groups have the same variance"
   ]
  },
  {
   "cell_type": "code",
   "execution_count": 37,
   "metadata": {},
   "outputs": [
    {
     "name": "stdout",
     "output_type": "stream",
     "text": [
      "significant difference between the two distributions\n"
     ]
    }
   ],
   "source": [
    "m1 = np.array([20.7, 20.3, 20.3, 20.3, 20.7, 19.9, 19.9, 19.9, 20.3, 20.3, 19.7, 20,3])\n",
    "m2 = np.array([19.7, 19.4, 20.1, 18.6, 18.8, 20.2, 18.7, 19])\n",
    "\n",
    "fval = np.var(m1, ddof=1)/np.var(m2, ddof=1)\n",
    "fd = stats.f(len(m1)-1, len(m2)-1)\n",
    "p_oneTail = fd.cdf(fval)\n",
    "\n",
    "if p_oneTail<0.025 or p_oneTail>0.975:\n",
    "    print('significant difference between the two distributions')\n",
    "else:\n",
    "    print('no significant difference')"
   ]
  },
  {
   "cell_type": "markdown",
   "metadata": {},
   "source": [
    "#### Lognormal distribution\n",
    "taking log and then will be transformed to a normal distribution\n",
    "#### Weibull distribution\n",
    "using in survival analysis\n",
    "#### Exponential distribution\n",
    "#### Uniform distribution\n",
    "\n",
    "## 7. Hypothesis Tests\n",
    "### 7.1 Typical Procedure\n",
    "#### Data screen and outliers\n",
    "visually inspect the data  \n",
    "deal with NAs  \n",
    "find extreme samples and check them carefully -- more than 1.5 IQR or 2 STD from the sample mean  \n",
    "determine the data type of the values  \n",
    "#### Normality check\n",
    "QQ-plot: plot quantiles against a reference distribution  \n",
    "PP-plot: plot cdf against a reference distribution   \n",
    "Probability-plot: plot ordered value against quantiles of a reference distribution"
   ]
  },
  {
   "cell_type": "code",
   "execution_count": 38,
   "metadata": {},
   "outputs": [
    {
     "data": {
      "text/plain": [
       "((array([-1.62649229, -1.1460438 , -0.83908498, -0.59616318, -0.38436112,\n",
       "         -0.18866497,  0.        ,  0.18866497,  0.38436112,  0.59616318,\n",
       "          0.83908498,  1.1460438 ,  1.62649229]),\n",
       "  array([ 2.91,  2.94,  2.94,  2.95,  2.99,  3.  ,  3.01,  3.02,  3.02,\n",
       "          3.04,  3.04,  3.09,  3.1 ])),\n",
       " (0.060923155107307427, 3.0038461538461543, 0.98365215235390802))"
      ]
     },
     "execution_count": 38,
     "metadata": {},
     "output_type": "execute_result"
    },
    {
     "data": {
      "image/png": "[encoded data removed]",
      "text/plain": [
       "<matplotlib.figure.Figure at 0x118f830b8>"
      ]
     },
     "metadata": {},
     "output_type": "display_data"
    }
   ],
   "source": [
    "stats.probplot(data, plot=plt)"
   ]
  },
  {
   "cell_type": "code",
   "execution_count": 39,
   "metadata": {},
   "outputs": [
    {
     "name": "stderr",
     "output_type": "stream",
     "text": [
      "/anaconda/lib/python3.6/site-packages/scipy/stats/stats.py:1327: UserWarning: kurtosistest only valid for n>=20 ... continuing anyway, n=13\n",
      "  \"anyway, n=%i\" % int(n))\n"
     ]
    },
    {
     "data": {
      "text/plain": [
       "NormaltestResult(statistic=0.21402567702286138, pvalue=0.89851413733223262)"
      ]
     },
     "execution_count": 39,
     "metadata": {},
     "output_type": "execute_result"
    }
   ],
   "source": [
    "# using D-P omnibus test, which is a test based on descriptive statistics of the sample\n",
    "# combine skewness and kurtosis test\n",
    "# 如果p-val非常小，则意味着数据不太可能来自正态分布\n",
    "stats.normaltest(data)"
   ]
  },
  {
   "cell_type": "markdown",
   "metadata": {},
   "source": [
    "#### Transformation\n",
    "如果是long tail data，很可能可以通过log转换变成normal distribution\n",
    "### 7.2 Hypothesis concept\n",
    "* draw a random sample from the population (scores)\n",
    "* form null hypo (mean = 110)\n",
    "* calculate t-value\n",
    "* compare observed t-value and the t-distribution, calculate p-value (likelihood that a value greater than observed value is found by chance)\n",
    "* if p < 0.05, reject null hypo (significant difference), if p > 0.05, cannot reject null hypo. if p < 0.001, highly significant  \n",
    "p < 0.05: if the null hypo is true, the chance to find a test statistics as extreme as or more extreme than the one observed is less than 5%"
   ]
  },
  {
   "cell_type": "code",
   "execution_count": 40,
   "metadata": {},
   "outputs": [
    {
     "data": {
      "text/plain": [
       "0.099538436527906227"
      ]
     },
     "execution_count": 40,
     "metadata": {},
     "output_type": "execute_result"
    }
   ],
   "source": [
    "scores = np.array([109.4, 76.2, 128.7, 93.7, 85.6, 117.7, 117.2, 87.3, 100.3, 55.1])\n",
    "tval = (110-np.mean(scores))/stats.sem(scores)\n",
    "td = stats.t(len(scores)-1)\n",
    "p = 2*td.sf(tval)\n",
    "p"
   ]
  },
  {
   "cell_type": "markdown",
   "metadata": {},
   "source": [
    "#### calibrate p-value, exploratory research and comfirmatory research pp129\n",
    "#### type I (false positive rate) and type II (false negative rate) error, test power (sensitivity)\n",
    "#### ROC curve\n",
    "\n",
    "## 8. Tests the Mean of Numerical Data\n",
    "### 8.1 One sample t-test for a mean value"
   ]
  },
  {
   "cell_type": "code",
   "execution_count": 3,
   "metadata": {},
   "outputs": [
    {
     "name": "stdout",
     "output_type": "stream",
     "text": [
      "The probability from the t-test is 0.0571, and from the normal distribution 0.0542\n"
     ]
    }
   ],
   "source": [
    "# T-test for a mean value: we have a population N(7, 3), \n",
    "# what is the chance we find a mean that 0.5 more or less than 7 (sample size 100)?\n",
    "np.random.seed(12345)\n",
    "normDist = stats.norm(loc=7, scale=3)\n",
    "data = normDist.rvs(100)\n",
    "checkVal = 6.5\n",
    "\n",
    "# T-test: tProb就是检验的p value\n",
    "t, tProb = stats.ttest_1samp(data, checkVal)\n",
    "\n",
    "# Z-test\n",
    "mmean = np.mean(data)\n",
    "mstd = np.std(data, ddof=1)\n",
    "normProb = stats.norm.cdf(checkVal, loc=mmean, scale=mstd/np.sqrt(len(data)))*2  # 计算p value\n",
    "\n",
    "print(('The probability from the t-test is ' + \n",
    "       '{0:5.4f}, and from the normal distribution {1:5.4f}'.format(tProb, normProb)))"
   ]
  },
  {
   "cell_type": "code",
   "execution_count": 5,
   "metadata": {},
   "outputs": [
    {
     "name": "stdout",
     "output_type": "stream",
     "text": [
      "1976.0 0.059074250744\n"
     ]
    }
   ],
   "source": [
    "# Wilcoxon signed rank sum test\n",
    "rank, pVal = stats.wilcoxon(data-checkVal)\n",
    "print(rank, pVal)"
   ]
  },
  {
   "cell_type": "markdown",
   "metadata": {},
   "source": [
    "### 8.2 Comparison of two groups"
   ]
  },
  {
   "cell_type": "code",
   "execution_count": 13,
   "metadata": {},
   "outputs": [
    {
     "data": {
      "text/plain": [
       "Ttest_1sampResult(statistic=2.2236647884935152, pvalue=0.053244608085120236)"
      ]
     },
     "execution_count": 13,
     "metadata": {},
     "output_type": "execute_result"
    }
   ],
   "source": [
    "# 8.2.1 paired T-test -- two values recorded for the same subject at different times and need to compare\n",
    "np.random.seed(12345)\n",
    "data = np.random.randn(10)+0.1\n",
    "data1 = np.random.randn(10)*5\n",
    "data2 = data1+data\n",
    "\n",
    "# method 1\n",
    "stats.ttest_1samp(data,0)"
   ]
  },
  {
   "cell_type": "code",
   "execution_count": 14,
   "metadata": {},
   "outputs": [
    {
     "data": {
      "text/plain": [
       "Ttest_relResult(statistic=-2.2236647884935148, pvalue=0.053244608085120285)"
      ]
     },
     "execution_count": 14,
     "metadata": {},
     "output_type": "execute_result"
    }
   ],
   "source": [
    "# method 2\n",
    "stats.ttest_rel(data1, data2)"
   ]
  },
  {
   "cell_type": "code",
   "execution_count": 15,
   "metadata": {},
   "outputs": [
    {
     "data": {
      "text/plain": [
       "Ttest_indResult(statistic=-0.22102291852236164, pvalue=0.82756238625538336)"
      ]
     },
     "execution_count": 15,
     "metadata": {},
     "output_type": "execute_result"
    }
   ],
   "source": [
    "# 8.2.2 T-test between independent groups, or unpaired T-test\n",
    "stats.ttest_ind(data1, data2)"
   ]
  },
  {
   "cell_type": "code",
   "execution_count": 16,
   "metadata": {},
   "outputs": [
    {
     "data": {
      "text/plain": [
       "MannwhitneyuResult(statistic=46.0, pvalue=0.39566839005033022)"
      ]
     },
     "execution_count": 16,
     "metadata": {},
     "output_type": "execute_result"
    }
   ],
   "source": [
    "# 8.2.3 Nonparametric comparison of two groups: Mann-Whitney test -- 如果数据不是正态分布的\n",
    "stats.mannwhitneyu(data1, data2)"
   ]
  },
  {
   "cell_type": "code",
   "execution_count": 25,
   "metadata": {},
   "outputs": [
    {
     "name": "stdout",
     "output_type": "stream",
     "text": [
      "the probability that the two distributions are equal is 0.0082.\n"
     ]
    }
   ],
   "source": [
    "# 8.2.4 Hypothesis test\n",
    "np.random.seed(12345)\n",
    "race1 = np.round(np.random.randn(20)*10+90)\n",
    "race2 = np.round(np.random.randn(20)*10+85)\n",
    "\n",
    "# t-test\n",
    "t, pval = stats.ttest_rel(race1, race2)\n",
    "print(\"the probability that the two distributions are equal is {0:5.4f}.\".format(pval))"
   ]
  },
  {
   "cell_type": "code",
   "execution_count": 28,
   "metadata": {},
   "outputs": [
    {
     "name": "stdout",
     "output_type": "stream",
     "text": [
      "                            OLS Regression Results                            \n",
      "==============================================================================\n",
      "Dep. Variable:       I(Race2 - Race1)   R-squared:                      -0.000\n",
      "Model:                            OLS   Adj. R-squared:                 -0.000\n",
      "Method:                 Least Squares   F-statistic:                      -inf\n",
      "Date:                Tue, 10 Apr 2018   Prob (F-statistic):                nan\n",
      "Time:                        11:13:57   Log-Likelihood:                -82.907\n",
      "No. Observations:                  20   AIC:                             167.8\n",
      "Df Residuals:                      19   BIC:                             168.8\n",
      "Df Model:                           0                                         \n",
      "Covariance Type:            nonrobust                                         \n",
      "==============================================================================\n",
      "                 coef    std err          t      P>|t|      [95.0% Conf. Int.]\n",
      "------------------------------------------------------------------------------\n",
      "Intercept    -10.3500      3.505     -2.953      0.008       -17.686    -3.014\n",
      "==============================================================================\n",
      "Omnibus:                        3.519   Durbin-Watson:                   1.887\n",
      "Prob(Omnibus):                  0.172   Jarque-Bera (JB):                1.643\n",
      "Skew:                           0.578   Prob(JB):                        0.440\n",
      "Kurtosis:                       3.797   Cond. No.                         1.00\n",
      "==============================================================================\n",
      "\n",
      "Warnings:\n",
      "[1] Standard Errors assume that the covariance matrix of the errors is correctly specified.\n"
     ]
    },
    {
     "name": "stderr",
     "output_type": "stream",
     "text": [
      "/anaconda/lib/python3.6/site-packages/statsmodels/regression/linear_model.py:1191: RuntimeWarning: divide by zero encountered in double_scalars\n",
      "  return self.ess/self.df_model\n"
     ]
    }
   ],
   "source": [
    "# statistic model: assume that race2 = race1 + b\n",
    "import statsmodels.formula.api as sm\n",
    "df = pd.DataFrame({'Race1': race1, 'Race2':race2})\n",
    "result = sm.ols(formula='I(Race2-Race1)~1', data = df).fit()\n",
    "print(result.summary())"
   ]
  },
  {
   "cell_type": "markdown",
   "metadata": {},
   "source": [
    "### 8.3 Comparison of Multiple Groups"
   ]
  },
  {
   "cell_type": "code",
   "execution_count": 31,
   "metadata": {},
   "outputs": [
    {
     "data": {
      "text/plain": [
       "F_onewayResult(statistic=5.5932081495882526, pvalue=0.0060540250760612617)"
      ]
     },
     "execution_count": 31,
     "metadata": {},
     "output_type": "execute_result"
    }
   ],
   "source": [
    "# 8.3.1 ANOVA\n",
    "# one-way ANOVA\n",
    "race3 = np.round(np.random.randn(20)*10+80)\n",
    "stats.f_oneway(race1, race2, race3)"
   ]
  },
  {
   "cell_type": "code",
   "execution_count": 32,
   "metadata": {
    "collapsed": true
   },
   "outputs": [],
   "source": [
    "# one-way ANOVA, detial method -- 这里还不是很明白，需要再看看, see ISP_anovaOneway.py\n",
    "# from statsmodels.formula.api import ols\n",
    "# from statsmodels.stats.anova import anova_lm\n",
    "# df = pd.DataFrame(data, columns = ['value', 'treatment'])\n",
    "# model = ols('value - C(treatment)', df).fit()\n",
    "# anovaresults = anova_lm(model)\n",
    "# print(anovaresults)"
   ]
  },
  {
   "cell_type": "code",
   "execution_count": 33,
   "metadata": {},
   "outputs": [
    {
     "data": {
      "text/plain": [
       "(array([False, False,  True], dtype=bool),\n",
       " array([ 0.15,  0.9 ,  0.03]),\n",
       " 0.016952427508441503,\n",
       " 0.016666666666666666)"
      ]
     },
     "execution_count": 33,
     "metadata": {},
     "output_type": "execute_result"
    }
   ],
   "source": [
    "# 8.3.2 Multiple comparisons -- 这里还不是很明白，需要再看看\n",
    "# Tukey test -- see ISP_multipleTesting.py\n",
    "# Bonferroni correction\n",
    "from statsmodels.sandbox.stats.multicomp import multipletests\n",
    "multipletests([0.05, 0.3, 0.01], method = 'bonferroni')\n",
    "# Holm correction"
   ]
  },
  {
   "cell_type": "markdown",
   "metadata": {},
   "source": [
    "#### 8.3.3 Kruskal-Walli test -- see ISP_kruskalWallis.py\n",
    "#### 8.3.4 Two-way ANOVA -- see ISP_anovaTwoway.py\n",
    "#### 8.3.5 Three-way ANOVA"
   ]
  },
  {
   "cell_type": "code",
   "execution_count": 34,
   "metadata": {},
   "outputs": [
    {
     "data": {
      "image/png": "[encoded data removed]",
      "text/plain": [
       "<matplotlib.figure.Figure at 0x11d51d128>"
      ]
     },
     "metadata": {},
     "output_type": "display_data"
    }
   ],
   "source": [
    "import matplotlib.pyplot as plt\n",
    "import seaborn as sns\n",
    "sns.set(style = 'whitegrid')\n",
    "\n",
    "df = sns.load_dataset('exercise')\n",
    "\n",
    "sns.factorplot('time', 'pulse', hue = 'kind', col = 'diet', data = df, hue_order = ['rest','walking','running'], \n",
    "              palette = 'YlGnBu_d', aspect = 0.75).despine(left=True)\n",
    "plt.show()"
   ]
  },
  {
   "cell_type": "markdown",
   "metadata": {},
   "source": [
    "### 8.4 Summary -- see pp155-156\n",
    "\n",
    "# 9. Tests on Categorical Data -- pp159\n",
    "# 10. Analysis of Survival Times -- pp175\n",
    "\n",
    "# 11. Linear Regression Models\n",
    "useful packages: statsmodel, PyMC, scikit-learn, scikit.bootstrap  \n",
    "linear regression models: y = kx + b  "
   ]
  },
  {
   "cell_type": "code",
   "execution_count": null,
   "metadata": {
    "collapsed": true
   },
   "outputs": [],
   "source": []
  }
 ],
 "metadata": {
  "kernelspec": {
   "display_name": "Python 3",
   "language": "python",
   "name": "python3"
  },
  "language_info": {
   "codemirror_mode": {
    "name": "ipython",
    "version": 3
   },
   "file_extension": ".py",
   "mimetype": "text/x-python",
   "name": "python",
   "nbconvert_exporter": "python",
   "pygments_lexer": "ipython3",
   "version": "3.6.5"
  }
 },
 "nbformat": 4,
 "nbformat_minor": 2
}
