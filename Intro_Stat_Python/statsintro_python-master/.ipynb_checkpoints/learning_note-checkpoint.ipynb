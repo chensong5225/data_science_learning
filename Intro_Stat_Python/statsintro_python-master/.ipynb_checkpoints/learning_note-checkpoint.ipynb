{
 "cells": [
  {
   "cell_type": "markdown",
   "metadata": {},
   "source": [
    "# Learning note on Intro to Stat with Python"
   ]
  },
  {
   "cell_type": "markdown",
   "metadata": {},
   "source": [
    "# ch1 why statistics\n",
    "# ch2 Python\n",
    "## 2.1 getting started\n",
    "### conventions\n",
    "### distributions & packages\n",
    "numpy--np, pandas--pd, matplotlib.pyplot--plt, scipy--sp, seaborn--sns, statsmodels, scikit_learn, scikit.bootstrap, rpy, rpy2  \n",
    "xlrd--excel  \n",
    "pyMC--bayesian  \n",
    "lifelines--survival analysis  \n",
    "patsy--formulas  \n",
    "## 2.2 Python data structure\n",
    "### data types\n",
    "tuple()--immutable, diff objects  \n",
    "list[]--mutable, same objects, + for concrate  \n",
    "array[]--numpy, numeriacal data, + for add  \n",
    "dictionary{}  \n",
    "dataframe--pandas  \n",
    "### indexing & slicing\n",
    "\n",
    "\n",
    "a[start:end] # items start through end-1\n",
    "a[start:]    # items start through the rest of the array\n",
    "a[:end]      # items from the beginning through end-1\n",
    "a[:]         # a copy of the whole array\n",
    "\n"
   ]
  },
  {
   "cell_type": "code",
   "execution_count": null,
   "metadata": {
    "collapsed": true
   },
   "outputs": [],
   "source": []
  }
 ],
 "metadata": {
  "kernelspec": {
   "display_name": "Python 3",
   "language": "python",
   "name": "python3"
  },
  "language_info": {
   "codemirror_mode": {
    "name": "ipython",
    "version": 3
   },
   "file_extension": ".py",
   "mimetype": "text/x-python",
   "name": "python",
   "nbconvert_exporter": "python",
   "pygments_lexer": "ipython3",
   "version": "3.6.0"
  }
 },
 "nbformat": 4,
 "nbformat_minor": 2
}
